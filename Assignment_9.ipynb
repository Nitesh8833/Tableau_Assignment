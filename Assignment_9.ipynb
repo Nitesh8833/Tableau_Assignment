{
 "cells": [
  {
   "cell_type": "markdown",
   "id": "ab4f5f99",
   "metadata": {},
   "source": [
    "Use the DataNation data set and find the following:-\n",
    "- Create a Filled map\n",
    "- Find the Death Rate for states and the Population for each state\n",
    "- Change the color of the filled map showing the state with high death rate\n",
    "with red color."
   ]
  },
  {
   "cell_type": "markdown",
   "id": "0d52c920",
   "metadata": {},
   "source": []
  }
 ],
 "metadata": {
  "kernelspec": {
   "display_name": "Python 3",
   "language": "python",
   "name": "python3"
  },
  "language_info": {
   "codemirror_mode": {
    "name": "ipython",
    "version": 3
   },
   "file_extension": ".py",
   "mimetype": "text/x-python",
   "name": "python",
   "nbconvert_exporter": "python",
   "pygments_lexer": "ipython3",
   "version": "3.8.8"
  }
 },
 "nbformat": 4,
 "nbformat_minor": 5
}
