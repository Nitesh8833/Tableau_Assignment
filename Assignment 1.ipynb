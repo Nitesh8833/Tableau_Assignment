{
 "cells": [
  {
   "cell_type": "markdown",
   "id": "22a518e8",
   "metadata": {},
   "source": [
    "1.What exactly is Tableau?"
   ]
  },
  {
   "cell_type": "markdown",
   "id": "9f5fd94b",
   "metadata": {},
   "source": [
    "Tableau is a software company that offers collaborative data visualization software for organizations working with business information analytics. Organizations use Tableau to visualize data and reveal patterns for analysis in business intelligence, making the data more understandable."
   ]
  },
  {
   "cell_type": "markdown",
   "id": "391b6cda",
   "metadata": {},
   "source": [
    "2.What are the different Tableau products available?"
   ]
  },
  {
   "cell_type": "raw",
   "id": "3b904bdf",
   "metadata": {},
   "source": [
    "1.Tableau Desktop\n",
    "2.Tableau Prep\n",
    "3.Tableau Server and Online\n",
    "4.Tableau Reader\n",
    "5.Tableau Public\n",
    "6.Tableau Viewer\n",
    "7.Tableau Explorer"
   ]
  },
  {
   "cell_type": "markdown",
   "id": "df53488a",
   "metadata": {},
   "source": [
    "3. In Tableau, how many tables can you join at once?"
   ]
  },
  {
   "cell_type": "markdown",
   "id": "01abcd09",
   "metadata": {},
   "source": [
    "The maximum number of 32 tables can be joined in Tableau. A table size must also be limited to 255 columns (fields)."
   ]
  },
  {
   "cell_type": "markdown",
   "id": "bf83bc5d",
   "metadata": {},
   "source": [
    "4. What are the various types of connections you may establish with Tableau and\n",
    "your dataset?"
   ]
  },
  {
   "cell_type": "markdown",
   "id": "484810f5",
   "metadata": {},
   "source": [
    "There are TWO types of data connections in Tableau. LIVE and EXTRACT (IN-MEMORY)."
   ]
  },
  {
   "cell_type": "markdown",
   "id": "24e9a8a3",
   "metadata": {},
   "source": [
    "PROBLEM WITH PRACTICE\n",
    "https://www.kaggle.com/juhi1994/superstore Data: US Superstore\n",
    "Data Link: https://www.kaggle.com/juhi1994/superstore\n",
    "5. Analyze and respond to the following questions using the information provided."
   ]
  },
  {
   "cell_type": "markdown",
   "id": "0b60dbf4",
   "metadata": {},
   "source": [
    "5. What is the store's overall revenue?"
   ]
  },
  {
   "cell_type": "markdown",
   "id": "d8e9aab5",
   "metadata": {},
   "source": [
    "$2297201"
   ]
  },
  {
   "cell_type": "markdown",
   "id": "334fb7c8",
   "metadata": {},
   "source": [
    "6. is the total amount of furniture sold to the Customer Segment \"Corporate\"?"
   ]
  },
  {
   "cell_type": "code",
   "execution_count": null,
   "id": "384693ab",
   "metadata": {},
   "outputs": [],
   "source": [
    "$229020"
   ]
  },
  {
   "cell_type": "markdown",
   "id": "d37bf393",
   "metadata": {},
   "source": [
    "Calculate the average discount for each order priority and choose the one with the\n",
    "most significant value."
   ]
  },
  {
   "cell_type": "code",
   "execution_count": null,
   "id": "5c1d4ae0",
   "metadata": {},
   "outputs": [],
   "source": []
  }
 ],
 "metadata": {
  "kernelspec": {
   "display_name": "Python 3",
   "language": "python",
   "name": "python3"
  },
  "language_info": {
   "codemirror_mode": {
    "name": "ipython",
    "version": 3
   },
   "file_extension": ".py",
   "mimetype": "text/x-python",
   "name": "python",
   "nbconvert_exporter": "python",
   "pygments_lexer": "ipython3",
   "version": "3.9.5"
  }
 },
 "nbformat": 4,
 "nbformat_minor": 5
}
