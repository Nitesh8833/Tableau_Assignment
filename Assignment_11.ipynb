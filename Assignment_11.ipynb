{
 "cells": [
  {
   "cell_type": "markdown",
   "id": "c431bd58",
   "metadata": {},
   "source": [
    "Use the GlobalData data set and find the following:-\n",
    "- Create a hierarchy of the Continent, Region and Country\n",
    "- Create a map with continent as dots for each continent.\n",
    "- Change the color of the dots with the help of color marks\n",
    "- Change the shape of the dots with different dot for each continent"
   ]
  },
  {
   "cell_type": "markdown",
   "id": "7ec50804",
   "metadata": {},
   "source": []
  }
 ],
 "metadata": {
  "kernelspec": {
   "display_name": "Python 3",
   "language": "python",
   "name": "python3"
  },
  "language_info": {
   "codemirror_mode": {
    "name": "ipython",
    "version": 3
   },
   "file_extension": ".py",
   "mimetype": "text/x-python",
   "name": "python",
   "nbconvert_exporter": "python",
   "pygments_lexer": "ipython3",
   "version": "3.8.8"
  }
 },
 "nbformat": 4,
 "nbformat_minor": 5
}
