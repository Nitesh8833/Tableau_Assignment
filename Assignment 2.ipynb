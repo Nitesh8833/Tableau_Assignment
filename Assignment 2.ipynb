{
 "cells": [
  {
   "cell_type": "markdown",
   "id": "f8d66af4",
   "metadata": {},
   "source": [
    "1. What is Tableau Data Engine?"
   ]
  },
  {
   "cell_type": "markdown",
   "id": "925cf868",
   "metadata": {},
   "source": [
    "Hyper is Tableau in-memory Data Engine technology optimized for fast data ingests and analytical query processing on large or complex data sets. ... The Data Engine is used when creating, refreshing or querying extracts. It is also used for cross-database joins to support federated data sources with multiple connections."
   ]
  },
  {
   "cell_type": "markdown",
   "id": "458a95b9",
   "metadata": {},
   "source": [
    "2. How to create a calculated field in Tableau?"
   ]
  },
  {
   "cell_type": "markdown",
   "id": "e2052d1a",
   "metadata": {},
   "source": [
    "In Tableau, select Analysis > Create Calculated Field.\n",
    "In the Calculation Editor that opens, do the following: Enter a name for the calculated field. ...\n",
    "When finished, click OK. The new calculated field is added to Measures in the Data pane because it returns a number."
   ]
  },
  {
   "cell_type": "markdown",
   "id": "053e64ee",
   "metadata": {},
   "source": [
    "3. Can you tell the differences between TreeMap and Heat Map?"
   ]
  },
  {
   "cell_type": "markdown",
   "id": "1a069f26",
   "metadata": {},
   "source": [
    "A two-dimensional representation of information with the help of colors is known as the Heatmap. These maps are used to visualize both simple and complex data. Heatmaps are frequently used in analyzing the patterns of consumer purchases.\n",
    "\n",
    "In a nutshell, Tableau Heat Maps are used to study consumer behavior. In the case of a website, distinct colors can describe the frequent and infrequent clicks on the website. Heatmaps can also be used for other purposes like understanding election results in a region, the intensity of storms in a region, etc.\n",
    "\n",
    "If you have a large amount of highly structured data, then the best option for visualization is a Treemap. The space in the visualization is split up into rectangles, sized and ordered according to the quantitative measures. The levels in the hierarchy are displayed as nested rectangles.\n",
    "\n",
    "A column or an expression is represented by the rectangles on the same level in Treemap. The category of each column is represented by each rectangle in the level. For example, if each rectangle represents countries, then the rectangles nested within them represent states and cities respectively."
   ]
  },
  {
   "cell_type": "markdown",
   "id": "a7719ce3",
   "metadata": {},
   "source": [
    "4.What are the components of a dashboard?"
   ]
  },
  {
   "cell_type": "markdown",
   "id": "8d9ea980",
   "metadata": {},
   "source": [
    "24 components"
   ]
  },
  {
   "cell_type": "raw",
   "id": "fe51fc02",
   "metadata": {},
   "source": [
    "Horizontal bar chart\n",
    "Vertical bar chart\n",
    "Line chart\n",
    "Pie chart\n",
    "Donut chart\n",
    "Funnel chart\n",
    "Scatter chart\n",
    "etc"
   ]
  },
  {
   "cell_type": "markdown",
   "id": "bc08a3f4",
   "metadata": {},
   "source": [
    "How much sales have come from customers from the previous in the\n",
    "current year in terms of Sales Value?"
   ]
  },
  {
   "cell_type": "markdown",
   "id": "6d3b4ab6",
   "metadata": {},
   "source": [
    "733215"
   ]
  },
  {
   "cell_type": "markdown",
   "id": "9c4d5342",
   "metadata": {},
   "source": [
    "How much sales have come from customers from the previous in the\n",
    "current year in terms of Sales Percentage?"
   ]
  },
  {
   "cell_type": "markdown",
   "id": "30cea447",
   "metadata": {},
   "source": [
    "31.92%"
   ]
  },
  {
   "cell_type": "markdown",
   "id": "62e8f7a8",
   "metadata": {},
   "source": [
    "Find the orders placed by each customer."
   ]
  },
  {
   "cell_type": "markdown",
   "id": "13bd74f5",
   "metadata": {},
   "source": [
    "5009"
   ]
  }
 ],
 "metadata": {
  "kernelspec": {
   "display_name": "Python 3",
   "language": "python",
   "name": "python3"
  },
  "language_info": {
   "codemirror_mode": {
    "name": "ipython",
    "version": 3
   },
   "file_extension": ".py",
   "mimetype": "text/x-python",
   "name": "python",
   "nbconvert_exporter": "python",
   "pygments_lexer": "ipython3",
   "version": "3.9.5"
  }
 },
 "nbformat": 4,
 "nbformat_minor": 5
}
